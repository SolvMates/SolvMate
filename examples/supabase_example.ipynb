{
 "cells": [
  {
   "cell_type": "markdown",
   "metadata": {},
   "source": [
    "Here is a Jupyter Notebook example that connects to your Supabase database, selects the top 10 rows from the `solvmate_config` table (specifically the `data_id` column), loads them into a Pandas DataFrame, and prints the DataFrame to the log.\n",
    "\n",
    "### Requirements for Your Environment:\n",
    "1. **Python Packages**:\n",
    "   - `supabase`: For interacting with the Supabase database.\n",
    "   - `pandas`: For working with DataFrames.\n",
    "   - `python-dotenv`: For loading environment variables from a `.env` file.\n",
    "\n",
    "   You can install these packages using the following command:\n",
    "   ```bash\n",
    "   pip install supabase pandas python-dotenv\n",
    "   ```\n",
    "\n",
    "2. **Environment Variables**:\n",
    "   - You need a `.env` file in the same directory as your notebook with the following variables:\n",
    "     ```\n",
    "     SUPABASE_URL=<your_supabase_url>\n",
    "     SUPABASE_KEY=<your_supabase_key>\n",
    "     ```\n",
    "\n",
    "3. **Supabase Table**:\n",
    "   - Ensure the `public` schema exists in your Supabase database and contains a `data_id` table.\n",
    "\n",
    "---\n",
    "\n",
    "### Jupyter Notebook Code:\n"
   ]
  },
  {
   "cell_type": "code",
   "execution_count": 1,
   "metadata": {},
   "outputs": [
    {
     "ename": "SyntaxError",
     "evalue": "incomplete input (2792865628.py, line 34)",
     "output_type": "error",
     "traceback": [
      "  \u001b[36mCell\u001b[39m\u001b[36m \u001b[39m\u001b[32mIn[1]\u001b[39m\u001b[32m, line 34\u001b[39m\n\u001b[31m    \u001b[39m\u001b[31mmain(\u001b[39m\n         ^\n\u001b[31mSyntaxError\u001b[39m\u001b[31m:\u001b[39m incomplete input\n"
     ]
    }
   ],
   "source": [
    "import os\n",
    "from dotenv import load_dotenv\n",
    "from supabase import create_client, Client\n",
    "import pandas as pd\n",
    "\n",
    "# Load environment variables\n",
    "load_dotenv()\n",
    "\n",
    "# Initialize Supabase client\n",
    "url: str = os.environ.get(\"SUPABASE_URL\")\n",
    "key: str = os.environ.get(\"SUPABASE_KEY\")\n",
    "supabase: Client = create_client(url, key)\n",
    "\n",
    "# Query the top 10 rows from the  table\n",
    "def fetch_top_10_data():\n",
    "    response = supabase.table('data_id').select('*').limit(10).execute()\n",
    "    data = response.data  # Extract data from the response\n",
    "    if data:\n",
    "        # Convert to a Pandas DataFrame\n",
    "        df = pd.DataFrame(data)\n",
    "        return df\n",
    "    else:\n",
    "        print(\"No data found.\")\n",
    "        return None\n",
    "\n",
    "# Main function\n",
    "def main():\n",
    "    df = fetch_top_10_data()\n",
    "    if df is not None:\n",
    "        print(\"Top 10 rows from data_id table:\")\n",
    "        print(df)\n",
    "\n",
    "# Execute the main function\n",
    "main("
   ]
  },
  {
   "cell_type": "markdown",
   "metadata": {},
   "source": [
    "\n",
    "\n",
    "---\n",
    "\n",
    "### Explanation:\n",
    "1. **Environment Variables**:\n",
    "   - The `load_dotenv()` function loads the `SUPABASE_URL` and `SUPABASE_KEY` from the `.env` file.\n",
    "\n",
    "2. **Supabase Query**:\n",
    "   - The `supabase.table('solvmate_config').select('data_id').limit(10).execute()` query fetches the top 10 rows of the `data_id` column from the `solvmate_config` table.\n",
    "\n",
    "3. **Pandas DataFrame**:\n",
    "   - The query result is converted into a Pandas DataFrame for easy manipulation and logging.\n",
    "\n",
    "4. **Logging**:\n",
    "   - The DataFrame is printed to the log using `print(df)`.\n",
    "\n",
    "---\n",
    "\n",
    "### Example `.env` File:\n"
   ]
  },
  {
   "cell_type": "code",
   "execution_count": null,
   "metadata": {},
   "outputs": [],
   "source": [
    "SUPABASE_URL=https://your-supabase-project-url.supabase.co\n",
    "SUPABASE_KEY=your-supabase-api-key"
   ]
  },
  {
   "cell_type": "markdown",
   "metadata": {},
   "source": [
    "\n",
    "\n",
    "Save this file in the same directory as your Jupyter Notebook.\n",
    "\n",
    "---\n",
    "\n",
    "### Running the Notebook:\n",
    "1. Open the Jupyter Notebook in your environment.\n",
    "2. Run the cells to execute the code.\n",
    "3. The top 10 rows of the `data_id` column will be printed in the notebook's output.\n",
    "\n",
    "Let me know if you need further assistance!Save this file in the same directory as your Jupyter Notebook.\n",
    "\n",
    "---\n",
    "\n",
    "### Running the Notebook:\n",
    "1. Open the Jupyter Notebook in your environment.\n",
    "2. Run the cells to execute the code.\n",
    "3. The top 10 rows of the `data_id` column will be printed in the notebook's output.\n",
    "\n",
    "Let me know if you need further assistance!"
   ]
  }
 ],
 "metadata": {
  "kernelspec": {
   "display_name": "Python (workspaces-SolvMate)",
   "language": "python",
   "name": "workspaces-solvmate"
  },
  "language_info": {
   "codemirror_mode": {
    "name": "ipython",
    "version": 3
   },
   "file_extension": ".py",
   "mimetype": "text/x-python",
   "name": "python",
   "nbconvert_exporter": "python",
   "pygments_lexer": "ipython3",
   "version": "3.12.1"
  }
 },
 "nbformat": 4,
 "nbformat_minor": 2
}
