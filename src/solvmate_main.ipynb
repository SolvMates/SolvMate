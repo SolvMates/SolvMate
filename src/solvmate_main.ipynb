{
 "cells": [
  {
   "cell_type": "code",
   "execution_count": null,
   "id": "35b632dc",
   "metadata": {},
   "outputs": [],
   "source": [
    "#initialize"
   ]
  },
  {
   "cell_type": "code",
   "execution_count": null,
   "id": "66fcbcea",
   "metadata": {},
   "outputs": [],
   "source": [
    "#run input function"
   ]
  },
  {
   "cell_type": "code",
   "execution_count": null,
   "id": "bc053db0",
   "metadata": {},
   "outputs": [],
   "source": [
    "#run market risk script"
   ]
  },
  {
   "cell_type": "code",
   "execution_count": null,
   "id": "fe0607fb",
   "metadata": {},
   "outputs": [],
   "source": [
    "#run output function\n"
   ]
  }
 ],
 "metadata": {
  "language_info": {
   "name": "python"
  }
 },
 "nbformat": 4,
 "nbformat_minor": 5
}
